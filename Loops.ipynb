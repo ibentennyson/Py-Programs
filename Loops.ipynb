{
 "cells": [
  {
   "cell_type": "code",
   "execution_count": 6,
   "metadata": {},
   "outputs": [
    {
     "name": "stdout",
     "output_type": "stream",
     "text": [
      "2 4 6 8 10 12 14 16 18 20 "
     ]
    }
   ],
   "source": [
    "i=1\n",
    "\n",
    "while i<=20:\n",
    "    if i%2==0:\n",
    "        print(i,end=\" \")\n",
    "        \n",
    "    i=i+1\n",
    "    "
   ]
  },
  {
   "cell_type": "code",
   "execution_count": 9,
   "metadata": {},
   "outputs": [
    {
     "name": "stdout",
     "output_type": "stream",
     "text": [
      "Enter a number :24\n",
      "1  is a factor of  24\n",
      "2  is a factor of  24\n",
      "3  is a factor of  24\n",
      "4  is a factor of  24\n",
      "6  is a factor of  24\n",
      "8  is a factor of  24\n",
      "12  is a factor of  24\n",
      "24  is a factor of  24\n"
     ]
    }
   ],
   "source": [
    "i=int(input(\"Enter a number :\"))\n",
    "j=1\n",
    "while j<=i:\n",
    "    if i%j==0:\n",
    "        print(j,' is a factor of ',i)\n",
    "    j+=1"
   ]
  },
  {
   "cell_type": "code",
   "execution_count": null,
   "metadata": {},
   "outputs": [],
   "source": [
    "'''Write a program to implement a fruit shop management system using following options (menu driven)\n",
    "1. Accept Fruit name & quantity\n",
    "2. Display all fruits available\n",
    "3. Check for availability\n",
    "4. Delete a fruit\n",
    "5. Sell a fruit\n",
    "'''\n",
    "while True:\n",
    "    print(\"Choose an option from below:\")\n",
    "\n",
    "    print(\"1. Enter Fruit name & quantity\")\n",
    "    print(\"2. Display all fruits available\")\n",
    "    print(\"3. Check for availability\")\n",
    "    print(\"4. Delete a fruit\")\n",
    "    print(\"5. Sell a fruit\")\n",
    "\n",
    "    op=int(input(\"Your choice: \"))\n",
    "\n",
    "    d={ }\n",
    "\n",
    "\n",
    "    if op==1:\n",
    "        \n",
    "        while True:\n",
    "            a=input('Enter the name of fruit:')\n",
    "            d[a]=int(input('Enter the quantity:'))\n",
    "            reply=input('Do you want to enter more fruits?(y/n)')\n",
    "            if reply=='n':\n",
    "                break\n",
    "\n",
    "    #display all fruits available\n",
    "    if op==2:\n",
    "        print('Fruits currently available are :')\n",
    "        for x in d:\n",
    "            if d[x]==0:\n",
    "                print(x,' is out of stock !')\n",
    "            else:\n",
    "                print(x,'  ',d[x])\n",
    "\n",
    "    #Check for availability\n",
    "    if op==3:\n",
    "        check=input(\"Which fruit's availability you wanna know?\")\n",
    "        if d[check]==0:\n",
    "            print(check,' is currently out of stock !')\n",
    "        else:\n",
    "            print(check,\"'s Quantity available is \",d[check])\n",
    "\n",
    "    #delete a fruit\n",
    "    if op==4:\n",
    "        while True:\n",
    "            fruit=input('Which fruit you wanna delete hooman?')\n",
    "            del d[fruit]\n",
    "            print(fruit,'is deleted ! ')\n",
    "            ask=input(\"Wanna delete some more fruits?(They'll get rotten anyways) (y/n)\")\n",
    "            if ask=='n':\n",
    "                break\n",
    "            elif ask!='y':\n",
    "                print('Donate your eyes bruh !')\n",
    "                break\n",
    "\n",
    "    #sell a fruit\n",
    "    if op==5:\n",
    "        print('Achcha yahan sell bhi hota hai?')\n",
    "        while True:\n",
    "            sell=input('Kaunsa fruit lena pasnd karenge shreeman ?')\n",
    "            if d[sell]==0:\n",
    "                print('Ye fal to sara bik gaya :(')\n",
    "            else:\n",
    "                print('Quantity available: ',d[sell])\n",
    "\n",
    "            qua=input('Kitna pack karu sar ?')\n",
    "            if qua<d[sell]:\n",
    "                d[sell]=d[sell]-qua\n",
    "                print(qua,' pack krdiya hai, Le lijiye. Have a nice day! ')\n",
    "            else:\n",
    "                print('Itna to mere paas nhi hai !')\n",
    "\n",
    "            another=input(\"kuch aur lenge? (y/n)\")\n",
    "            if another!='y':\n",
    "                print('Bhag le fir')\n",
    "                break\n",
    "\n",
    "    int(input('Do you want to perform more funtions? (1 for yes/0 for no)'))\n"
   ]
  },
  {
   "cell_type": "code",
   "execution_count": null,
   "metadata": {},
   "outputs": [],
   "source": []
  }
 ],
 "metadata": {
  "kernelspec": {
   "display_name": "Python 3",
   "language": "python",
   "name": "python3"
  },
  "language_info": {
   "codemirror_mode": {
    "name": "ipython",
    "version": 3
   },
   "file_extension": ".py",
   "mimetype": "text/x-python",
   "name": "python",
   "nbconvert_exporter": "python",
   "pygments_lexer": "ipython3",
   "version": "3.8.3"
  }
 },
 "nbformat": 4,
 "nbformat_minor": 4
}
